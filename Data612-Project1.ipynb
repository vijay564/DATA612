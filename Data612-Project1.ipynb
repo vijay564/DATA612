{
 "cells": [
  {
   "cell_type": "markdown",
   "metadata": {},
   "source": [
    "# Data612 - Project 1\n",
    "\n",
    "In this first assignment, we’ll attempt to predict ratings with very little information. We’ll first look at\n",
    "just raw averages across all (training dataset) users. We’ll then account for “bias” by normalizing\n",
    "across users and across items."
   ]
  },
  {
   "cell_type": "markdown",
   "metadata": {},
   "source": [
    "# Movie Recommender System\n",
    "Our system recommends movies to users. We created a small toy dataset which will be available in github and use it in this recommender system."
   ]
  },
  {
   "cell_type": "markdown",
   "metadata": {},
   "source": [
    "### Import required packages"
   ]
  },
  {
   "cell_type": "code",
   "execution_count": 40,
   "metadata": {},
   "outputs": [],
   "source": [
    "import pandas as pd\n",
    "from matplotlib import pyplot as plt\n",
    "from sklearn.model_selection import train_test_split\n",
    "from sklearn.metrics import mean_squared_error\n",
    "import math"
   ]
  },
  {
   "cell_type": "markdown",
   "metadata": {},
   "source": [
    "### Load Dataset from Github"
   ]
  },
  {
   "cell_type": "code",
   "execution_count": 41,
   "metadata": {},
   "outputs": [
    {
     "data": {
      "text/html": [
       "<div>\n",
       "<style scoped>\n",
       "    .dataframe tbody tr th:only-of-type {\n",
       "        vertical-align: middle;\n",
       "    }\n",
       "\n",
       "    .dataframe tbody tr th {\n",
       "        vertical-align: top;\n",
       "    }\n",
       "\n",
       "    .dataframe thead th {\n",
       "        text-align: right;\n",
       "    }\n",
       "</style>\n",
       "<table border=\"1\" class=\"dataframe\">\n",
       "  <thead>\n",
       "    <tr style=\"text-align: right;\">\n",
       "      <th></th>\n",
       "      <th>M01</th>\n",
       "      <th>M02</th>\n",
       "      <th>M03</th>\n",
       "      <th>M04</th>\n",
       "      <th>M05</th>\n",
       "      <th>M06</th>\n",
       "      <th>M07</th>\n",
       "      <th>Unnamed: 0</th>\n",
       "    </tr>\n",
       "  </thead>\n",
       "  <tbody>\n",
       "    <tr>\n",
       "      <th>0</th>\n",
       "      <td>5.0</td>\n",
       "      <td>2</td>\n",
       "      <td>4.0</td>\n",
       "      <td>2.0</td>\n",
       "      <td>1.0</td>\n",
       "      <td>3.0</td>\n",
       "      <td>2.0</td>\n",
       "      <td>1</td>\n",
       "    </tr>\n",
       "    <tr>\n",
       "      <th>1</th>\n",
       "      <td>3.0</td>\n",
       "      <td>1</td>\n",
       "      <td>1.0</td>\n",
       "      <td>NaN</td>\n",
       "      <td>1.0</td>\n",
       "      <td>1.0</td>\n",
       "      <td>NaN</td>\n",
       "      <td>2</td>\n",
       "    </tr>\n",
       "    <tr>\n",
       "      <th>2</th>\n",
       "      <td>NaN</td>\n",
       "      <td>1</td>\n",
       "      <td>3.0</td>\n",
       "      <td>5.0</td>\n",
       "      <td>4.0</td>\n",
       "      <td>NaN</td>\n",
       "      <td>NaN</td>\n",
       "      <td>3</td>\n",
       "    </tr>\n",
       "    <tr>\n",
       "      <th>3</th>\n",
       "      <td>4.0</td>\n",
       "      <td>1</td>\n",
       "      <td>3.0</td>\n",
       "      <td>2.0</td>\n",
       "      <td>4.0</td>\n",
       "      <td>2.0</td>\n",
       "      <td>4.0</td>\n",
       "      <td>4</td>\n",
       "    </tr>\n",
       "    <tr>\n",
       "      <th>4</th>\n",
       "      <td>NaN</td>\n",
       "      <td>5</td>\n",
       "      <td>NaN</td>\n",
       "      <td>1.0</td>\n",
       "      <td>3.0</td>\n",
       "      <td>4.0</td>\n",
       "      <td>4.0</td>\n",
       "      <td>5</td>\n",
       "    </tr>\n",
       "  </tbody>\n",
       "</table>\n",
       "</div>"
      ],
      "text/plain": [
       "   M01  M02  M03  M04  M05  M06  M07  Unnamed: 0\n",
       "0  5.0    2  4.0  2.0  1.0  3.0  2.0           1\n",
       "1  3.0    1  1.0  NaN  1.0  1.0  NaN           2\n",
       "2  NaN    1  3.0  5.0  4.0  NaN  NaN           3\n",
       "3  4.0    1  3.0  2.0  4.0  2.0  4.0           4\n",
       "4  NaN    5  NaN  1.0  3.0  4.0  4.0           5"
      ]
     },
     "execution_count": 41,
     "metadata": {},
     "output_type": "execute_result"
    }
   ],
   "source": [
    "movies = pd.read_csv('https://raw.githubusercontent.com/vijay564/DATA612/master/movie_ratings.csv')\n",
    "movies = movies[sorted(movies.columns)]\n",
    "movies.head()"
   ]
  },
  {
   "cell_type": "markdown",
   "metadata": {},
   "source": [
    "*Finding Mean*"
   ]
  },
  {
   "cell_type": "code",
   "execution_count": 42,
   "metadata": {},
   "outputs": [
    {
     "data": {
      "text/plain": [
       "0     2.500000\n",
       "1     1.500000\n",
       "2     3.200000\n",
       "3     3.000000\n",
       "4     3.666667\n",
       "5     3.250000\n",
       "6     3.666667\n",
       "7     3.625000\n",
       "8     4.571429\n",
       "9     3.625000\n",
       "10    3.571429\n",
       "11    4.333333\n",
       "12    4.000000\n",
       "13    4.142857\n",
       "14    4.125000\n",
       "dtype: float64"
      ]
     },
     "execution_count": 42,
     "metadata": {},
     "output_type": "execute_result"
    }
   ],
   "source": [
    "movies.mean(axis=1,skipna = True)"
   ]
  },
  {
   "cell_type": "code",
   "execution_count": 43,
   "metadata": {},
   "outputs": [
    {
     "name": "stdout",
     "output_type": "stream",
     "text": [
      "M01           2.916667\n",
      "M02           2.400000\n",
      "M03           3.000000\n",
      "M04           3.142857\n",
      "M05           2.714286\n",
      "M06           2.692308\n",
      "M07           2.700000\n",
      "Unnamed: 0    8.000000\n",
      "dtype: float64\n"
     ]
    }
   ],
   "source": [
    "movies_mean_col = movies.mean(axis=0, skipna = True)\n",
    "movies_mean_row = movies.mean(axis=1, skipna = True)\n",
    "print(movies_mean_col)\n"
   ]
  },
  {
   "cell_type": "code",
   "execution_count": 44,
   "metadata": {},
   "outputs": [
    {
     "name": "stdout",
     "output_type": "stream",
     "text": [
      "0     2.500000\n",
      "1     1.500000\n",
      "2     3.200000\n",
      "3     3.000000\n",
      "4     3.666667\n",
      "5     3.250000\n",
      "6     3.666667\n",
      "7     3.625000\n",
      "8     4.571429\n",
      "9     3.625000\n",
      "10    3.571429\n",
      "11    4.333333\n",
      "12    4.000000\n",
      "13    4.142857\n",
      "14    4.125000\n",
      "dtype: float64\n"
     ]
    }
   ],
   "source": [
    "print(movies_mean_row)"
   ]
  },
  {
   "cell_type": "markdown",
   "metadata": {},
   "source": [
    "### Split the dataset in 2 datasets : Train and Test\n",
    "\n",
    "### Find the average of training and test set"
   ]
  },
  {
   "cell_type": "code",
   "execution_count": 45,
   "metadata": {},
   "outputs": [
    {
     "name": "stdout",
     "output_type": "stream",
     "text": [
      "Average of training set: 3.25\n",
      "\n",
      "Average of test set: 4.590909090909091\n",
      "\n"
     ]
    }
   ],
   "source": [
    "movies_col = movies.stack()\n",
    "movies_col.head(30)\n",
    "movies_train, movies_test = train_test_split(movies_col, test_size =0.2)\n",
    "\n",
    "movies_train = movies_train.sort_index()\n",
    "movies_test = movies_test.sort_index()\n",
    "\n",
    "movies_train_mean = movies_train.mean()\n",
    "movies_test_mean = movies_test.mean()\n",
    "\n",
    "print(\"Average of training set: \" + str(movies_train_mean) + \"\\n\")\n",
    "print(\"Average of test set: \" + str(movies_test_mean) + \"\\n\")"
   ]
  },
  {
   "cell_type": "markdown",
   "metadata": {},
   "source": [
    "### Calculate the row and column averages to calculate the biases"
   ]
  },
  {
   "cell_type": "code",
   "execution_count": 46,
   "metadata": {},
   "outputs": [
    {
     "name": "stdout",
     "output_type": "stream",
     "text": [
      "M01           3.571429\n",
      "M02           2.500000\n",
      "M03           2.833333\n",
      "M04           3.090909\n",
      "M05           2.636364\n",
      "M06           2.666667\n",
      "M07           2.750000\n",
      "Unnamed: 0    6.888889\n",
      "dtype: float64\n",
      "0     2.600000\n",
      "1     1.200000\n",
      "2     3.750000\n",
      "3     2.666667\n",
      "4     3.666667\n",
      "5     3.000000\n",
      "6     3.400000\n",
      "7     3.000000\n",
      "8     4.000000\n",
      "9     2.600000\n",
      "10    3.571429\n",
      "11    5.000000\n",
      "12    2.714286\n",
      "13    2.800000\n",
      "14    4.571429\n",
      "dtype: float64\n"
     ]
    }
   ],
   "source": [
    "movies_train_wide = movies_train.unstack().sort_index()\n",
    "movies_train_column_means = movies_train_wide.mean(axis=0,skipna = True)\n",
    "\n",
    "print(str(movies_train_column_means))\n",
    "\n",
    "movies_train_row_means = movies_train_wide.mean(axis=1,skipna = True)\n",
    "\n",
    "print(str(movies_train_row_means))"
   ]
  },
  {
   "cell_type": "code",
   "execution_count": 47,
   "metadata": {},
   "outputs": [
    {
     "name": "stdout",
     "output_type": "stream",
     "text": [
      "M01           2.000000\n",
      "M02           1.000000\n",
      "M03           5.000000\n",
      "M04           3.333333\n",
      "M05           3.000000\n",
      "M06           3.000000\n",
      "M07           2.500000\n",
      "Unnamed: 0    9.666667\n",
      "dtype: float64\n",
      "0      2.333333\n",
      "1      3.000000\n",
      "2      1.000000\n",
      "3      4.000000\n",
      "5      4.000000\n",
      "6      5.000000\n",
      "7      5.500000\n",
      "8      6.000000\n",
      "9      5.333333\n",
      "11     1.000000\n",
      "12    13.000000\n",
      "13     7.500000\n",
      "14     1.000000\n",
      "dtype: float64\n"
     ]
    }
   ],
   "source": [
    "movies_test_all = movies_test.unstack().sort_index()\n",
    "movies_test_all\n",
    "movies_test_column_means = movies_test_all.mean(axis=0,skipna = True)\n",
    "print(str(movies_test_column_means))\n",
    "movies_test_row_means = movies_test_all.mean(axis=1,skipna = True)\n",
    "print(str(movies_test_row_means))"
   ]
  },
  {
   "cell_type": "markdown",
   "metadata": {},
   "source": [
    "### Calculate RMSE"
   ]
  },
  {
   "cell_type": "code",
   "execution_count": 48,
   "metadata": {},
   "outputs": [
    {
     "name": "stdout",
     "output_type": "stream",
     "text": [
      "RMSE training set: 2.3343960165115005\n",
      "\n",
      "RMSE test set: 3.9593100868252744\n",
      "\n"
     ]
    }
   ],
   "source": [
    "train_pred = [movies_train.mean()]*len(movies_train)\n",
    "train_rmse = mean_squared_error(movies_train, train_pred)**0.5\n",
    "print(\"RMSE training set: \" + str(train_rmse) + \"\\n\")\n",
    "test_pred = [movies_train.mean()]*len(movies_test) \n",
    "test_rmse = mean_squared_error(movies_test, test_pred)**0.5\n",
    "print(\"RMSE test set: \" + str(test_rmse) + \"\\n\")"
   ]
  },
  {
   "cell_type": "markdown",
   "metadata": {},
   "source": [
    "### Calculate BIAS for each user and each item."
   ]
  },
  {
   "cell_type": "code",
   "execution_count": 49,
   "metadata": {},
   "outputs": [],
   "source": [
    "show_bias = movies_train_column_means - movies_train_mean \n",
    "user_bias = movies_train_row_means - movies_train_mean "
   ]
  },
  {
   "cell_type": "markdown",
   "metadata": {},
   "source": [
    "### Calculate Baseline Predictors for every user-item combination. "
   ]
  },
  {
   "cell_type": "code",
   "execution_count": 50,
   "metadata": {},
   "outputs": [
    {
     "data": {
      "text/html": [
       "<div>\n",
       "<style scoped>\n",
       "    .dataframe tbody tr th:only-of-type {\n",
       "        vertical-align: middle;\n",
       "    }\n",
       "\n",
       "    .dataframe tbody tr th {\n",
       "        vertical-align: top;\n",
       "    }\n",
       "\n",
       "    .dataframe thead th {\n",
       "        text-align: right;\n",
       "    }\n",
       "</style>\n",
       "<table border=\"1\" class=\"dataframe\">\n",
       "  <thead>\n",
       "    <tr style=\"text-align: right;\">\n",
       "      <th></th>\n",
       "      <th>M01</th>\n",
       "      <th>M02</th>\n",
       "      <th>M03</th>\n",
       "      <th>M04</th>\n",
       "      <th>M05</th>\n",
       "      <th>M06</th>\n",
       "      <th>M07</th>\n",
       "      <th>Unnamed: 0</th>\n",
       "    </tr>\n",
       "  </thead>\n",
       "  <tbody>\n",
       "    <tr>\n",
       "      <th>0</th>\n",
       "      <td>2.92143</td>\n",
       "      <td>1.85</td>\n",
       "      <td>2.18333</td>\n",
       "      <td>2.44091</td>\n",
       "      <td>1.98636</td>\n",
       "      <td>2.01667</td>\n",
       "      <td>2.1</td>\n",
       "      <td>5</td>\n",
       "    </tr>\n",
       "    <tr>\n",
       "      <th>1</th>\n",
       "      <td>1.52143</td>\n",
       "      <td>1</td>\n",
       "      <td>1</td>\n",
       "      <td>1.04091</td>\n",
       "      <td>1</td>\n",
       "      <td>1</td>\n",
       "      <td>1</td>\n",
       "      <td>4.83889</td>\n",
       "    </tr>\n",
       "    <tr>\n",
       "      <th>2</th>\n",
       "      <td>4.07143</td>\n",
       "      <td>3</td>\n",
       "      <td>3.33333</td>\n",
       "      <td>3.59091</td>\n",
       "      <td>3.13636</td>\n",
       "      <td>3.16667</td>\n",
       "      <td>3.25</td>\n",
       "      <td>5</td>\n",
       "    </tr>\n",
       "    <tr>\n",
       "      <th>3</th>\n",
       "      <td>2.9881</td>\n",
       "      <td>1.91667</td>\n",
       "      <td>2.25</td>\n",
       "      <td>2.50758</td>\n",
       "      <td>2.05303</td>\n",
       "      <td>2.08333</td>\n",
       "      <td>2.16667</td>\n",
       "      <td>5</td>\n",
       "    </tr>\n",
       "    <tr>\n",
       "      <th>4</th>\n",
       "      <td>3.9881</td>\n",
       "      <td>2.91667</td>\n",
       "      <td>3.25</td>\n",
       "      <td>3.50758</td>\n",
       "      <td>3.05303</td>\n",
       "      <td>3.08333</td>\n",
       "      <td>3.16667</td>\n",
       "      <td>5</td>\n",
       "    </tr>\n",
       "  </tbody>\n",
       "</table>\n",
       "</div>"
      ],
      "text/plain": [
       "       M01      M02      M03      M04      M05      M06      M07 Unnamed: 0\n",
       "0  2.92143     1.85  2.18333  2.44091  1.98636  2.01667      2.1          5\n",
       "1  1.52143        1        1  1.04091        1        1        1    4.83889\n",
       "2  4.07143        3  3.33333  3.59091  3.13636  3.16667     3.25          5\n",
       "3   2.9881  1.91667     2.25  2.50758  2.05303  2.08333  2.16667          5\n",
       "4   3.9881  2.91667     3.25  3.50758  3.05303  3.08333  3.16667          5"
      ]
     },
     "execution_count": 50,
     "metadata": {},
     "output_type": "execute_result"
    }
   ],
   "source": [
    "movies_prediction = pd.DataFrame(index=movies.index, columns=movies.columns.values)\n",
    "for i in range(0,len(user_bias)):\n",
    "    for j in range(0,len(show_bias)):\n",
    "            movies_prediction.iloc[i,j] = movies_train_mean + user_bias[i] + show_bias[j]\n",
    "            if movies_prediction.iloc[i,j] < 1.0:\n",
    "                movies_prediction.iloc[i,j] = 1.0\n",
    "            elif movies_prediction.iloc[i,j] > 5.0:\n",
    "                movies_prediction.iloc[i,j] = 5.0\n",
    "movies_prediction.head()"
   ]
  },
  {
   "cell_type": "code",
   "execution_count": 51,
   "metadata": {},
   "outputs": [
    {
     "data": {
      "text/html": [
       "<div>\n",
       "<style scoped>\n",
       "    .dataframe tbody tr th:only-of-type {\n",
       "        vertical-align: middle;\n",
       "    }\n",
       "\n",
       "    .dataframe tbody tr th {\n",
       "        vertical-align: top;\n",
       "    }\n",
       "\n",
       "    .dataframe thead th {\n",
       "        text-align: right;\n",
       "    }\n",
       "</style>\n",
       "<table border=\"1\" class=\"dataframe\">\n",
       "  <thead>\n",
       "    <tr style=\"text-align: right;\">\n",
       "      <th></th>\n",
       "      <th>M01</th>\n",
       "      <th>M02</th>\n",
       "      <th>M03</th>\n",
       "      <th>M04</th>\n",
       "      <th>M05</th>\n",
       "      <th>M06</th>\n",
       "      <th>M07</th>\n",
       "      <th>Unnamed: 0</th>\n",
       "    </tr>\n",
       "  </thead>\n",
       "  <tbody>\n",
       "    <tr>\n",
       "      <th>0</th>\n",
       "      <td>2.92143</td>\n",
       "      <td>1.85</td>\n",
       "      <td>2.18333</td>\n",
       "      <td>NaN</td>\n",
       "      <td>1.98636</td>\n",
       "      <td>NaN</td>\n",
       "      <td>NaN</td>\n",
       "      <td>5</td>\n",
       "    </tr>\n",
       "    <tr>\n",
       "      <th>1</th>\n",
       "      <td>NaN</td>\n",
       "      <td>1</td>\n",
       "      <td>1</td>\n",
       "      <td>NaN</td>\n",
       "      <td>1</td>\n",
       "      <td>1</td>\n",
       "      <td>NaN</td>\n",
       "      <td>4.83889</td>\n",
       "    </tr>\n",
       "    <tr>\n",
       "      <th>2</th>\n",
       "      <td>NaN</td>\n",
       "      <td>NaN</td>\n",
       "      <td>3.33333</td>\n",
       "      <td>3.59091</td>\n",
       "      <td>3.13636</td>\n",
       "      <td>NaN</td>\n",
       "      <td>NaN</td>\n",
       "      <td>5</td>\n",
       "    </tr>\n",
       "    <tr>\n",
       "      <th>3</th>\n",
       "      <td>2.9881</td>\n",
       "      <td>1.91667</td>\n",
       "      <td>2.25</td>\n",
       "      <td>2.50758</td>\n",
       "      <td>NaN</td>\n",
       "      <td>2.08333</td>\n",
       "      <td>2.16667</td>\n",
       "      <td>NaN</td>\n",
       "    </tr>\n",
       "    <tr>\n",
       "      <th>4</th>\n",
       "      <td>NaN</td>\n",
       "      <td>2.91667</td>\n",
       "      <td>NaN</td>\n",
       "      <td>3.50758</td>\n",
       "      <td>3.05303</td>\n",
       "      <td>3.08333</td>\n",
       "      <td>3.16667</td>\n",
       "      <td>5</td>\n",
       "    </tr>\n",
       "  </tbody>\n",
       "</table>\n",
       "</div>"
      ],
      "text/plain": [
       "       M01      M02      M03      M04      M05      M06      M07 Unnamed: 0\n",
       "0  2.92143     1.85  2.18333      NaN  1.98636      NaN      NaN          5\n",
       "1      NaN        1        1      NaN        1        1      NaN    4.83889\n",
       "2      NaN      NaN  3.33333  3.59091  3.13636      NaN      NaN          5\n",
       "3   2.9881  1.91667     2.25  2.50758      NaN  2.08333  2.16667        NaN\n",
       "4      NaN  2.91667      NaN  3.50758  3.05303  3.08333  3.16667          5"
      ]
     },
     "execution_count": 51,
     "metadata": {},
     "output_type": "execute_result"
    }
   ],
   "source": [
    "movies_prediction_train = pd.DataFrame(index=movies.index, columns=movies.columns.values)\n",
    "movies_prediction_train = movies_prediction_train[sorted(movies_prediction_train.columns)]\n",
    "movies_train_wide = movies_train_wide[sorted(movies_train_wide.columns)]\n",
    "for i in range(0,len(user_bias)):\n",
    "    for j in range(0,len(show_bias)):\n",
    "        if math.isnan(movies_train_wide.iloc[i,j]):\n",
    "            continue\n",
    "        else:\n",
    "            movies_prediction_train.iloc[i,j] = movies_train_mean + user_bias[i] + show_bias[j]\n",
    "            if movies_prediction_train.iloc[i,j] < 1.0:\n",
    "                movies_prediction_train.iloc[i,j] = 1.0\n",
    "            elif movies_prediction_train.iloc[i,j] > 5.0:\n",
    "                movies_prediction_train.iloc[i,j] = 5.0\n",
    "movies_prediction_train.head()"
   ]
  },
  {
   "cell_type": "code",
   "execution_count": 52,
   "metadata": {},
   "outputs": [
    {
     "name": "stdout",
     "output_type": "stream",
     "text": [
      "RMSE training set: 2.044334238867013\n",
      "\n"
     ]
    }
   ],
   "source": [
    "train_base_rmse = mean_squared_error(movies_train, movies_prediction_train.stack().sort_index())**0.5\n",
    "print(\"RMSE training set: \" + str(train_base_rmse) + \"\\n\")"
   ]
  },
  {
   "cell_type": "code",
   "execution_count": 53,
   "metadata": {},
   "outputs": [],
   "source": [
    "movies_prediction_test = pd.DataFrame(index=movies.index, columns=movies.columns.values)\n",
    "movies_prediction_test = movies_prediction_test[sorted(movies_prediction_test.columns)]\n",
    "movies_test_all = movies_test_all[sorted(movies_test_all.columns)]\n",
    "movies_test_all = movies_test_all.reindex(movies.index)"
   ]
  },
  {
   "cell_type": "code",
   "execution_count": 54,
   "metadata": {},
   "outputs": [
    {
     "data": {
      "text/html": [
       "<div>\n",
       "<style scoped>\n",
       "    .dataframe tbody tr th:only-of-type {\n",
       "        vertical-align: middle;\n",
       "    }\n",
       "\n",
       "    .dataframe tbody tr th {\n",
       "        vertical-align: top;\n",
       "    }\n",
       "\n",
       "    .dataframe thead th {\n",
       "        text-align: right;\n",
       "    }\n",
       "</style>\n",
       "<table border=\"1\" class=\"dataframe\">\n",
       "  <thead>\n",
       "    <tr style=\"text-align: right;\">\n",
       "      <th></th>\n",
       "      <th>M01</th>\n",
       "      <th>M02</th>\n",
       "      <th>M03</th>\n",
       "      <th>M04</th>\n",
       "      <th>M05</th>\n",
       "      <th>M06</th>\n",
       "      <th>M07</th>\n",
       "      <th>Unnamed: 0</th>\n",
       "    </tr>\n",
       "  </thead>\n",
       "  <tbody>\n",
       "    <tr>\n",
       "      <th>0</th>\n",
       "      <td>NaN</td>\n",
       "      <td>NaN</td>\n",
       "      <td>NaN</td>\n",
       "      <td>3.78182</td>\n",
       "      <td>NaN</td>\n",
       "      <td>3.35758</td>\n",
       "      <td>3.44091</td>\n",
       "      <td>NaN</td>\n",
       "    </tr>\n",
       "    <tr>\n",
       "      <th>1</th>\n",
       "      <td>2.86234</td>\n",
       "      <td>NaN</td>\n",
       "      <td>NaN</td>\n",
       "      <td>NaN</td>\n",
       "      <td>NaN</td>\n",
       "      <td>NaN</td>\n",
       "      <td>NaN</td>\n",
       "      <td>NaN</td>\n",
       "    </tr>\n",
       "    <tr>\n",
       "      <th>2</th>\n",
       "      <td>NaN</td>\n",
       "      <td>4.34091</td>\n",
       "      <td>NaN</td>\n",
       "      <td>NaN</td>\n",
       "      <td>NaN</td>\n",
       "      <td>NaN</td>\n",
       "      <td>NaN</td>\n",
       "      <td>NaN</td>\n",
       "    </tr>\n",
       "    <tr>\n",
       "      <th>3</th>\n",
       "      <td>NaN</td>\n",
       "      <td>NaN</td>\n",
       "      <td>NaN</td>\n",
       "      <td>NaN</td>\n",
       "      <td>3.39394</td>\n",
       "      <td>NaN</td>\n",
       "      <td>NaN</td>\n",
       "      <td>5</td>\n",
       "    </tr>\n",
       "    <tr>\n",
       "      <th>4</th>\n",
       "      <td>NaN</td>\n",
       "      <td>NaN</td>\n",
       "      <td>NaN</td>\n",
       "      <td>NaN</td>\n",
       "      <td>NaN</td>\n",
       "      <td>NaN</td>\n",
       "      <td>NaN</td>\n",
       "      <td>NaN</td>\n",
       "    </tr>\n",
       "  </tbody>\n",
       "</table>\n",
       "</div>"
      ],
      "text/plain": [
       "       M01      M02  M03      M04      M05      M06      M07 Unnamed: 0\n",
       "0      NaN      NaN  NaN  3.78182      NaN  3.35758  3.44091        NaN\n",
       "1  2.86234      NaN  NaN      NaN      NaN      NaN      NaN        NaN\n",
       "2      NaN  4.34091  NaN      NaN      NaN      NaN      NaN        NaN\n",
       "3      NaN      NaN  NaN      NaN  3.39394      NaN      NaN          5\n",
       "4      NaN      NaN  NaN      NaN      NaN      NaN      NaN        NaN"
      ]
     },
     "execution_count": 54,
     "metadata": {},
     "output_type": "execute_result"
    }
   ],
   "source": [
    "for l in range(0,movies_test_all.shape[0]):\n",
    "    for k in range(0,movies_test_all.shape[1]):\n",
    "        if math.isnan(movies_test_all.iloc[l,k]):\n",
    "            continue\n",
    "        else:\n",
    "            movies_prediction_test.iloc[l,k] = movies_test_mean + user_bias[l] + show_bias[k]\n",
    "            if movies_prediction_test.iloc[l,k] < 1.0:\n",
    "                movies_prediction_test.iloc[l,k] = 1.0\n",
    "            elif movies_prediction_test.iloc[l,k] > 5.0:\n",
    "                movies_prediction_test.iloc[l,k] = 5.0\n",
    "movies_prediction_test.head()"
   ]
  },
  {
   "cell_type": "markdown",
   "metadata": {},
   "source": [
    "### RMSE for Test set"
   ]
  },
  {
   "cell_type": "code",
   "execution_count": 55,
   "metadata": {},
   "outputs": [
    {
     "name": "stdout",
     "output_type": "stream",
     "text": [
      "RMSE test set: 3.4717337115615754\n",
      "\n"
     ]
    }
   ],
   "source": [
    "test_base_rmse = mean_squared_error(movies_test, movies_prediction_test.stack().sort_index())**0.5\n",
    "print(\"RMSE test set: \" + str(test_base_rmse) + \"\\n\")\n"
   ]
  },
  {
   "cell_type": "markdown",
   "metadata": {},
   "source": [
    "### Percentage improvement for Test and Train set"
   ]
  },
  {
   "cell_type": "code",
   "execution_count": 56,
   "metadata": {},
   "outputs": [
    {
     "name": "stdout",
     "output_type": "stream",
     "text": [
      "Train: 12.425559998939395\n",
      "test: 12.314680198606432\n"
     ]
    }
   ],
   "source": [
    "print(\"Train: \"+str((1-(train_base_rmse/train_rmse))*100) )\n",
    "print(\"test: \"+str((1-(test_base_rmse/test_rmse))*100) )"
   ]
  },
  {
   "cell_type": "markdown",
   "metadata": {},
   "source": [
    "### Conclusion\n",
    "\n",
    "> percentage of improvement for test set is 12.31% and train set is 12.42% which is very close. This indicates that after baseline predictor it improved our user-item matrix very slightly."
   ]
  }
 ],
 "metadata": {
  "kernelspec": {
   "display_name": "Python 3",
   "language": "python",
   "name": "python3"
  },
  "language_info": {
   "codemirror_mode": {
    "name": "ipython",
    "version": 3
   },
   "file_extension": ".py",
   "mimetype": "text/x-python",
   "name": "python",
   "nbconvert_exporter": "python",
   "pygments_lexer": "ipython3",
   "version": "3.7.4"
  }
 },
 "nbformat": 4,
 "nbformat_minor": 2
}
